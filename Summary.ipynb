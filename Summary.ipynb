{
 "cells": [
  {
   "cell_type": "markdown",
   "id": "c4193af4",
   "metadata": {},
   "source": [
    "## Backstory"
   ]
  },
  {
   "cell_type": "markdown",
   "id": "399ea2a5",
   "metadata": {},
   "source": [
    "Donuts trucks is a new business company, and they need to explore the areas  with highest traffic in New York City.\n",
    "So, by analyzing MTA Turnstile Data we can help them to explore where should these Dounts' trucks take location.\n",
    "\n",
    "Distributing 3 trucks as the first step , three days weekly\n"
   ]
  },
  {
   "cell_type": "markdown",
   "id": "bff6bd30",
   "metadata": {},
   "source": [
    "## Dataset"
   ]
  },
  {
   "cell_type": "markdown",
   "id": "65e5225f",
   "metadata": {},
   "source": [
    "- MTA Turnstile Data , http://web.mta.info/developers/turnstile.html\n",
    "- The project used four months From Jul. to Oct. of 2018 which that contain 555156 rows and 12 columns\n",
    " "
   ]
  },
  {
   "cell_type": "markdown",
   "id": "1be2f9e3",
   "metadata": {},
   "source": [
    "## Tools"
   ]
  },
  {
   "cell_type": "markdown",
   "id": "e4c23c9e",
   "metadata": {},
   "source": [
    "- SQlite and Jupyter notebook.\n",
    "- sqlalchemy for connect to database\n",
    "- Numpy and Pandas for data manipulation.\n",
    "- Matplotlib and Seaborn for plotting"
   ]
  },
  {
   "cell_type": "code",
   "execution_count": null,
   "id": "a91e1921",
   "metadata": {},
   "outputs": [],
   "source": []
  }
 ],
 "metadata": {
  "kernelspec": {
   "display_name": "Python 3",
   "language": "python",
   "name": "python3"
  },
  "language_info": {
   "codemirror_mode": {
    "name": "ipython",
    "version": 3
   },
   "file_extension": ".py",
   "mimetype": "text/x-python",
   "name": "python",
   "nbconvert_exporter": "python",
   "pygments_lexer": "ipython3",
   "version": "3.8.8"
  }
 },
 "nbformat": 4,
 "nbformat_minor": 5
}
