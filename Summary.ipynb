{
 "cells": [
  {
   "cell_type": "markdown",
   "id": "dc5a3d4f",
   "metadata": {},
   "source": [
    "## Backstory"
   ]
  },
  {
   "cell_type": "markdown",
   "id": "3bf9ae08",
   "metadata": {},
   "source": [
    "Donuts trucks is a new business company, and they need to explore the areas  with highest traffic in New York City.\n",
    "So, by analyzing MTA Turnstile Data we can help them to explore where should these Dounts' trucks take location.\n",
    "\n",
    "Distributing 3 trucks as the first step , three days weekly\n"
   ]
  },
  {
   "cell_type": "markdown",
   "id": "10765397",
   "metadata": {},
   "source": [
    "## Goals\n",
    "- Determining the overall busiest stations to explore where should these trucks take locate.\n",
    "\n",
    "- Discovering the days with the highest traffic per station to determine the suitable days for work \n"
   ]
  },
  {
   "cell_type": "markdown",
   "id": "c88b37d2",
   "metadata": {},
   "source": [
    "## Dataset"
   ]
  },
  {
   "attachments": {},
   "cell_type": "markdown",
   "id": "9e7b49ef",
   "metadata": {},
   "source": [
    "- The project used MTA turnstile dataset, it is available on http://web.mta.info/developers/turnstile.html\n",
    "- This project used four months From Jul. to Oct. of 2018 which that contain 555156 rows and 12 columns\n",
    " "
   ]
  },
  {
   "cell_type": "markdown",
   "id": "8213dfb7",
   "metadata": {},
   "source": [
    "## Tools"
   ]
  },
  {
   "cell_type": "markdown",
   "id": "9bb6c8e9",
   "metadata": {},
   "source": [
    "- SQlite and Jupyter notebook.\n",
    "- sqlalchemy for connect to database\n",
    "- Numpy and Pandas for data manipulation.\n",
    "- Matplotlib and Seaborn for plotting"
   ]
  },
  {
   "cell_type": "markdown",
   "id": "a505ae66",
   "metadata": {},
   "source": [
    "## Future work\n",
    "\n",
    "- Discovering the time-period of the day with the highest traffic per station to determine the suitable time of opens and close the truck."
   ]
  },
  {
   "cell_type": "code",
   "execution_count": null,
   "id": "ae7177dc",
   "metadata": {},
   "outputs": [],
   "source": []
  }
 ],
 "metadata": {
  "kernelspec": {
   "display_name": "Python 3",
   "language": "python",
   "name": "python3"
  },
  "language_info": {
   "codemirror_mode": {
    "name": "ipython",
    "version": 3
   },
   "file_extension": ".py",
   "mimetype": "text/x-python",
   "name": "python",
   "nbconvert_exporter": "python",
   "pygments_lexer": "ipython3",
   "version": "3.8.8"
  }
 },
 "nbformat": 4,
 "nbformat_minor": 5
}
