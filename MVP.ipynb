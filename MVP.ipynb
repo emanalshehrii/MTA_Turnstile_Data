{
 "cells": [
  {
   "cell_type": "markdown",
   "id": "d9568eb2",
   "metadata": {},
   "source": [
    "."
   ]
  },
  {
   "cell_type": "markdown",
   "id": "2c45c80a",
   "metadata": {},
   "source": [
    "## Analysis of the Dounts Trucks (MVP)"
   ]
  },
  {
   "cell_type": "markdown",
   "id": "1ab78510",
   "metadata": {},
   "source": [
    "\n",
    "The goal of this project is to increase sales revenue and profitability of these trucks.\n",
    "Thus, by determining the top busiest stations , we can explore where should these Dounts' trucks take location.\n",
    "To start exploring this goal, the first step we did it is analyzed the busiest stations\n",
    "in NY city by sum the daily entries and exits , see figure 1 below.\n",
    "\n",
    "\n",
    "\n",
    "\n",
    "\n",
    "\n",
    "\n",
    "\n",
    "\n",
    "\n",
    "<img src=\"busiest10Station.png\" width='400'/>\n",
    "\n",
    "\n",
    "\n",
    "\n",
    "We found the highest traffic station is \"34 ST-PENN STA\" then \"GRD CNTRL-42 ST\" as so on.\n",
    "\n",
    "\n",
    "\n",
    "\n",
    "Although, we found the top 10 busiest station, we worked to get the best locations\n",
    "for Dounts trucks more specifically by explored the top 10 busiest stations by daily entry\n",
    "and another by daily exits, see figures 2, 3.\n",
    "\n",
    "<img src=\"Entries.png\" width='400'/>\n",
    "\n",
    "<img src=\"Exits.png\" width='400'/>\n",
    "\n",
    "\n",
    "Then, we deciding to discover the days with the highest traffic per station to determine the suitable days for Dounts trucks working. So, the analysis is worked on the Top 10 traffic station per exits but we will make it on entries as well.\n",
    "see figure 4.\n",
    "\n",
    "\n",
    "<img src=\"busiestStation_Exits_days.png\" width='400'/>\n",
    "\n",
    "\n",
    "The result found the stations \"JOURNAL SQUARE\" has the highest traffic station per daily exits on Monday and Tuesday. Also, the \"GRD CNTRL-42 ST \" has high traffic station on Tuesday.\n",
    "\n",
    "\n",
    "By looking at  \"GRD CNTRL-42 ST \" station you can see the highest frequency was on Tuesday and Wednesday.\n",
    "\n",
    "<img src=\"st.png\" width='400'/>\n",
    "\n",
    "Then if we look at \"JOURNAL SQUARE \" station you can see the highest frequency was on Tuesday and Monday.\n",
    "\n",
    "<img src=\"st1.png\" width='400'/>"
   ]
  },
  {
   "cell_type": "code",
   "execution_count": null,
   "id": "02f86d78",
   "metadata": {},
   "outputs": [],
   "source": []
  }
 ],
 "metadata": {
  "kernelspec": {
   "display_name": "Python 3",
   "language": "python",
   "name": "python3"
  },
  "language_info": {
   "codemirror_mode": {
    "name": "ipython",
    "version": 3
   },
   "file_extension": ".py",
   "mimetype": "text/x-python",
   "name": "python",
   "nbconvert_exporter": "python",
   "pygments_lexer": "ipython3",
   "version": "3.8.8"
  }
 },
 "nbformat": 4,
 "nbformat_minor": 5
}
